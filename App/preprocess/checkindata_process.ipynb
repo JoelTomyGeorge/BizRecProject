{
 "cells": [
  {
   "cell_type": "markdown",
   "metadata": {},
   "source": [
    "C:\\Lambton\\Term_3\\BDM 3035 - Big Data Capstone Project 01\\project"
   ]
  },
  {
   "cell_type": "code",
   "execution_count": 13,
   "metadata": {},
   "outputs": [],
   "source": [
    "import pandas as pd\n",
    "\n",
    "# Load the data\n",
    "input_file = '..\\..\\yelp_dataset\\medium\\yelp.checkin.csv'  # Update this to your file path\n",
    "output_file = '..\\..\\yelp_dataset\\medium\\processed_checkin.csv'\n"
   ]
  },
  {
   "cell_type": "code",
   "execution_count": 14,
   "metadata": {},
   "outputs": [],
   "source": [
    "# Read the CSV file'..\\..\\yelp_dataset\\medium\\yelp.checkin.csv'\n",
    "df = pd.read_csv(input_file)\n"
   ]
  },
  {
   "cell_type": "code",
   "execution_count": 15,
   "metadata": {},
   "outputs": [
    {
     "data": {
      "text/html": [
       "<div>\n",
       "<style scoped>\n",
       "    .dataframe tbody tr th:only-of-type {\n",
       "        vertical-align: middle;\n",
       "    }\n",
       "\n",
       "    .dataframe tbody tr th {\n",
       "        vertical-align: top;\n",
       "    }\n",
       "\n",
       "    .dataframe thead th {\n",
       "        text-align: right;\n",
       "    }\n",
       "</style>\n",
       "<table border=\"1\" class=\"dataframe\">\n",
       "  <thead>\n",
       "    <tr style=\"text-align: right;\">\n",
       "      <th></th>\n",
       "      <th>business_id</th>\n",
       "      <th>date</th>\n",
       "    </tr>\n",
       "  </thead>\n",
       "  <tbody>\n",
       "    <tr>\n",
       "      <th>0</th>\n",
       "      <td>---kPU91CF4Lq2-WlRu9Lw</td>\n",
       "      <td>2020-03-13 21:10:56, 2020-06-02 22:18:06, 2020...</td>\n",
       "    </tr>\n",
       "    <tr>\n",
       "      <th>1</th>\n",
       "      <td>--0iUa4sNDFiZFrAdIWhZQ</td>\n",
       "      <td>2010-09-13 21:43:09, 2011-05-04 23:08:15, 2011...</td>\n",
       "    </tr>\n",
       "    <tr>\n",
       "      <th>2</th>\n",
       "      <td>--30_8IhuyMHbSOcNWd6DQ</td>\n",
       "      <td>2013-06-14 23:29:17, 2014-08-13 23:20:22</td>\n",
       "    </tr>\n",
       "    <tr>\n",
       "      <th>3</th>\n",
       "      <td>--7PUidqRWpRSpXebiyxTg</td>\n",
       "      <td>2011-02-15 17:12:00, 2011-07-28 02:46:10, 2012...</td>\n",
       "    </tr>\n",
       "    <tr>\n",
       "      <th>4</th>\n",
       "      <td>--7jw19RH9JKXgFohspgQw</td>\n",
       "      <td>2014-04-21 20:42:11, 2014-04-28 21:04:46, 2014...</td>\n",
       "    </tr>\n",
       "    <tr>\n",
       "      <th>...</th>\n",
       "      <td>...</td>\n",
       "      <td>...</td>\n",
       "    </tr>\n",
       "    <tr>\n",
       "      <th>49995</th>\n",
       "      <td>NJaR_2hke7NNAC6l1Ohr8g</td>\n",
       "      <td>2015-01-16 02:17:10, 2015-01-16 04:45:59, 2015...</td>\n",
       "    </tr>\n",
       "    <tr>\n",
       "      <th>49996</th>\n",
       "      <td>NJcoVbVwnYigsQVDOgl29Q</td>\n",
       "      <td>2013-07-27 23:05:38, 2013-08-10 22:42:26, 2013...</td>\n",
       "    </tr>\n",
       "    <tr>\n",
       "      <th>49997</th>\n",
       "      <td>NJe5fkia_63rdKXRdJlmkA</td>\n",
       "      <td>2018-12-08 02:43:45, 2018-12-09 23:34:42, 2018...</td>\n",
       "    </tr>\n",
       "    <tr>\n",
       "      <th>49998</th>\n",
       "      <td>NJg2ookzRGD2Ej-VNpuY-w</td>\n",
       "      <td>2010-11-02 23:09:05, 2010-11-05 14:10:24, 2011...</td>\n",
       "    </tr>\n",
       "    <tr>\n",
       "      <th>49999</th>\n",
       "      <td>NJhWEmpgMTo_QtndFqu3Hg</td>\n",
       "      <td>2018-04-03 01:12:08, 2018-04-11 00:48:20, 2018...</td>\n",
       "    </tr>\n",
       "  </tbody>\n",
       "</table>\n",
       "<p>50000 rows × 2 columns</p>\n",
       "</div>"
      ],
      "text/plain": [
       "                  business_id  \\\n",
       "0      ---kPU91CF4Lq2-WlRu9Lw   \n",
       "1      --0iUa4sNDFiZFrAdIWhZQ   \n",
       "2      --30_8IhuyMHbSOcNWd6DQ   \n",
       "3      --7PUidqRWpRSpXebiyxTg   \n",
       "4      --7jw19RH9JKXgFohspgQw   \n",
       "...                       ...   \n",
       "49995  NJaR_2hke7NNAC6l1Ohr8g   \n",
       "49996  NJcoVbVwnYigsQVDOgl29Q   \n",
       "49997  NJe5fkia_63rdKXRdJlmkA   \n",
       "49998  NJg2ookzRGD2Ej-VNpuY-w   \n",
       "49999  NJhWEmpgMTo_QtndFqu3Hg   \n",
       "\n",
       "                                                    date  \n",
       "0      2020-03-13 21:10:56, 2020-06-02 22:18:06, 2020...  \n",
       "1      2010-09-13 21:43:09, 2011-05-04 23:08:15, 2011...  \n",
       "2               2013-06-14 23:29:17, 2014-08-13 23:20:22  \n",
       "3      2011-02-15 17:12:00, 2011-07-28 02:46:10, 2012...  \n",
       "4      2014-04-21 20:42:11, 2014-04-28 21:04:46, 2014...  \n",
       "...                                                  ...  \n",
       "49995  2015-01-16 02:17:10, 2015-01-16 04:45:59, 2015...  \n",
       "49996  2013-07-27 23:05:38, 2013-08-10 22:42:26, 2013...  \n",
       "49997  2018-12-08 02:43:45, 2018-12-09 23:34:42, 2018...  \n",
       "49998  2010-11-02 23:09:05, 2010-11-05 14:10:24, 2011...  \n",
       "49999  2018-04-03 01:12:08, 2018-04-11 00:48:20, 2018...  \n",
       "\n",
       "[50000 rows x 2 columns]"
      ]
     },
     "execution_count": 15,
     "metadata": {},
     "output_type": "execute_result"
    }
   ],
   "source": [
    "df"
   ]
  },
  {
   "cell_type": "code",
   "execution_count": 16,
   "metadata": {},
   "outputs": [
    {
     "name": "stdout",
     "output_type": "stream",
     "text": [
      "Processed data saved to ..\\..\\yelp_dataset\\medium\\processed_checkin.csv\n"
     ]
    }
   ],
   "source": [
    "# Split the 'date' column to multiple rows based on commas and trim spaces\n",
    "df = df.assign(date=df['date'].str.split(',')).explode('date')\n",
    "df['date'] = df['date'].str.strip()\n",
    "\n",
    "# Save the processed data to a new CSV file\n",
    "df.to_csv(output_file, index=False)\n",
    "\n",
    "print(f\"Processed data saved to {output_file}\")"
   ]
  },
  {
   "cell_type": "code",
   "execution_count": null,
   "metadata": {},
   "outputs": [],
   "source": []
  }
 ],
 "metadata": {
  "kernelspec": {
   "display_name": "env",
   "language": "python",
   "name": "python3"
  },
  "language_info": {
   "codemirror_mode": {
    "name": "ipython",
    "version": 3
   },
   "file_extension": ".py",
   "mimetype": "text/x-python",
   "name": "python",
   "nbconvert_exporter": "python",
   "pygments_lexer": "ipython3",
   "version": "3.11.5"
  }
 },
 "nbformat": 4,
 "nbformat_minor": 2
}
